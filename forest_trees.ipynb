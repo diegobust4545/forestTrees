{
 "cells": [
  {
   "cell_type": "code",
   "execution_count": 5,
   "metadata": {
    "collapsed": false
   },
   "outputs": [],
   "source": [
    "import pandas as pd\n",
    "from pandas import DataFrame\n",
    "# Read in training set\n",
    "fData = pd.read_csv('/Users/DiegoB/Desktop/datamining/machine-learning/notebooks/Datasets/forest_train.csv')\n",
    "fData['Cover_Type'] = fData['Cover_Type'].astype('category')\n",
    "\n",
    "fData = fData.set_index('Unnamed: 0')\n",
    "trees_feature = fData[fData.columns[:-1]]"
   ]
  },
  {
   "cell_type": "code",
   "execution_count": 6,
   "metadata": {
    "collapsed": false
   },
   "outputs": [
    {
     "data": {
      "text/plain": [
       "GaussianNB(priors=None)"
      ]
     },
     "execution_count": 6,
     "metadata": {},
     "output_type": "execute_result"
    }
   ],
   "source": [
    "from sklearn.naive_bayes import GaussianNB\n",
    "\n",
    "\n",
    "# Set our label to Cover_Type\n",
    "trees_label = fData['Cover_Type']\n",
    "\n",
    "# Training dataset\n",
    "clf = GaussianNB()\n",
    "clf.fit(trees_feature, trees_label)"
   ]
  },
  {
   "cell_type": "code",
   "execution_count": 7,
   "metadata": {
    "collapsed": false
   },
   "outputs": [],
   "source": [
    "# Reading in Test set\n",
    "fData_test = pd.read_csv('/Users/DiegoB/Desktop/datamining/machine-learning/notebooks/Datasets/forest_train.csv')\n",
    "\n",
    "fData_test = fData_test.set_index('Unnamed: 0')\n",
    "test_feature = fData_test[fData_test.columns[:-1]]\n",
    "test_label = fData_test['Cover_Type']"
   ]
  },
  {
   "cell_type": "code",
   "execution_count": 8,
   "metadata": {
    "collapsed": false
   },
   "outputs": [
    {
     "name": "stdout",
     "output_type": "stream",
     "text": [
      "[1 1 1 ..., 1 1 1]\n"
     ]
    }
   ],
   "source": [
    "fData_predictions = clf.predict(test_feature)\n",
    "print(fData_predictions)"
   ]
  },
  {
   "cell_type": "code",
   "execution_count": 10,
   "metadata": {
    "collapsed": false
   },
   "outputs": [
    {
     "name": "stdout",
     "output_type": "stream",
     "text": [
      "0.45874326874\n"
     ]
    }
   ],
   "source": [
    "# Predict accuracy\n",
    "from sklearn.metrics import accuracy_score\n",
    "print(accuracy_score(test_label, fData_predictions))"
   ]
  },
  {
   "cell_type": "code",
   "execution_count": null,
   "metadata": {
    "collapsed": true
   },
   "outputs": [],
   "source": []
  }
 ],
 "metadata": {
  "kernelspec": {
   "display_name": "Python 3",
   "language": "python",
   "name": "python3"
  },
  "language_info": {
   "codemirror_mode": {
    "name": "ipython",
    "version": 3
   },
   "file_extension": ".py",
   "mimetype": "text/x-python",
   "name": "python",
   "nbconvert_exporter": "python",
   "pygments_lexer": "ipython3",
   "version": "3.6.0"
  }
 },
 "nbformat": 4,
 "nbformat_minor": 2
}
